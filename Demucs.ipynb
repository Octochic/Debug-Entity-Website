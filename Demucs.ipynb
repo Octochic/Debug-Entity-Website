{
  "nbformat": 4,
  "nbformat_minor": 0,
  "metadata": {
    "colab": {
      "name": "Demucs.ipynb",
      "provenance": [],
      "gpuType": "T4",
      "include_colab_link": true
    },
    "kernelspec": {
      "name": "python3",
      "display_name": "Python 3"
    },
    "accelerator": "GPU"
  },
  "cells": [
    {
      "cell_type": "markdown",
      "metadata": {
        "id": "view-in-github",
        "colab_type": "text"
      },
      "source": [
        "<a href=\"https://colab.research.google.com/github/Octochic/Debug-Entity-Website/blob/master/Demucs.ipynb\" target=\"_parent\"><img src=\"https://colab.research.google.com/assets/colab-badge.svg\" alt=\"Open In Colab\"/></a>"
      ]
    },
    {
      "cell_type": "markdown",
      "metadata": {
        "id": "QoDSau5K9ibz"
      },
      "source": [
        "#Demucs\n",
        "\n",
        "Demucs is a music source seperation model from Facebook. Provide it a song and it will seperate the track into individual files containing drums, bass, vocals, and \"other\".\n",
        "\n",
        "[Github Repo](https://github.com/facebookresearch/demucs)"
      ]
    },
    {
      "cell_type": "markdown",
      "metadata": {
        "id": "QibnBixahElY"
      },
      "source": [
        "Upload your file to Colab, then copy the path below:"
      ]
    },
    {
      "cell_type": "code",
      "source": [
        "!pip install lameenc musdb museval treetable"
      ],
      "metadata": {
        "id": "IMLWEr49uknr",
        "outputId": "0e945508-f6d4-4cd2-9156-99181cb13e5a",
        "colab": {
          "base_uri": "https://localhost:8080/"
        }
      },
      "execution_count": 3,
      "outputs": [
        {
          "output_type": "stream",
          "name": "stdout",
          "text": [
            "Requirement already satisfied: lameenc in /usr/local/lib/python3.10/dist-packages (1.7.0)\n",
            "Collecting musdb\n",
            "  Downloading musdb-0.4.2-py2.py3-none-any.whl.metadata (10 kB)\n",
            "Collecting museval\n",
            "  Downloading museval-0.4.1-py2.py3-none-any.whl.metadata (10 kB)\n",
            "Requirement already satisfied: treetable in /usr/local/lib/python3.10/dist-packages (0.2.5)\n",
            "Requirement already satisfied: numpy>=1.7 in /usr/local/lib/python3.10/dist-packages (from musdb) (1.26.4)\n",
            "Collecting stempeg>=0.2.3 (from musdb)\n",
            "  Downloading stempeg-0.2.3-py3-none-any.whl.metadata (9.0 kB)\n",
            "Collecting pyaml (from musdb)\n",
            "  Downloading pyaml-24.12.1-py3-none-any.whl.metadata (12 kB)\n",
            "Requirement already satisfied: tqdm in /usr/local/lib/python3.10/dist-packages (from musdb) (4.67.1)\n",
            "Requirement already satisfied: pandas>=1.0.1 in /usr/local/lib/python3.10/dist-packages (from museval) (2.2.2)\n",
            "Requirement already satisfied: scipy in /usr/local/lib/python3.10/dist-packages (from museval) (1.13.1)\n",
            "Collecting simplejson>=3.19.0 (from museval)\n",
            "  Downloading simplejson-3.19.3-cp310-cp310-manylinux_2_5_x86_64.manylinux1_x86_64.manylinux_2_17_x86_64.manylinux2014_x86_64.whl.metadata (3.2 kB)\n",
            "Requirement already satisfied: soundfile in /usr/local/lib/python3.10/dist-packages (from museval) (0.12.1)\n",
            "Requirement already satisfied: jsonschema in /usr/local/lib/python3.10/dist-packages (from museval) (4.23.0)\n",
            "Requirement already satisfied: python-dateutil>=2.8.2 in /usr/local/lib/python3.10/dist-packages (from pandas>=1.0.1->museval) (2.8.2)\n",
            "Requirement already satisfied: pytz>=2020.1 in /usr/local/lib/python3.10/dist-packages (from pandas>=1.0.1->museval) (2024.2)\n",
            "Requirement already satisfied: tzdata>=2022.7 in /usr/local/lib/python3.10/dist-packages (from pandas>=1.0.1->museval) (2024.2)\n",
            "Collecting ffmpeg-python>=0.2.0 (from stempeg>=0.2.3->musdb)\n",
            "  Downloading ffmpeg_python-0.2.0-py3-none-any.whl.metadata (1.7 kB)\n",
            "Requirement already satisfied: attrs>=22.2.0 in /usr/local/lib/python3.10/dist-packages (from jsonschema->museval) (24.3.0)\n",
            "Requirement already satisfied: jsonschema-specifications>=2023.03.6 in /usr/local/lib/python3.10/dist-packages (from jsonschema->museval) (2024.10.1)\n",
            "Requirement already satisfied: referencing>=0.28.4 in /usr/local/lib/python3.10/dist-packages (from jsonschema->museval) (0.35.1)\n",
            "Requirement already satisfied: rpds-py>=0.7.1 in /usr/local/lib/python3.10/dist-packages (from jsonschema->museval) (0.22.3)\n",
            "Requirement already satisfied: PyYAML in /usr/local/lib/python3.10/dist-packages (from pyaml->musdb) (6.0.2)\n",
            "Requirement already satisfied: cffi>=1.0 in /usr/local/lib/python3.10/dist-packages (from soundfile->museval) (1.17.1)\n",
            "Requirement already satisfied: pycparser in /usr/local/lib/python3.10/dist-packages (from cffi>=1.0->soundfile->museval) (2.22)\n",
            "Requirement already satisfied: future in /usr/local/lib/python3.10/dist-packages (from ffmpeg-python>=0.2.0->stempeg>=0.2.3->musdb) (1.0.0)\n",
            "Requirement already satisfied: six>=1.5 in /usr/local/lib/python3.10/dist-packages (from python-dateutil>=2.8.2->pandas>=1.0.1->museval) (1.17.0)\n",
            "Downloading musdb-0.4.2-py2.py3-none-any.whl (13 kB)\n",
            "Downloading museval-0.4.1-py2.py3-none-any.whl (20 kB)\n",
            "Downloading simplejson-3.19.3-cp310-cp310-manylinux_2_5_x86_64.manylinux1_x86_64.manylinux_2_17_x86_64.manylinux2014_x86_64.whl (137 kB)\n",
            "\u001b[2K   \u001b[90m━━━━━━━━━━━━━━━━━━━━━━━━━━━━━━━━━━━━━━━━\u001b[0m \u001b[32m137.9/137.9 kB\u001b[0m \u001b[31m7.3 MB/s\u001b[0m eta \u001b[36m0:00:00\u001b[0m\n",
            "\u001b[?25hDownloading stempeg-0.2.3-py3-none-any.whl (963 kB)\n",
            "\u001b[2K   \u001b[90m━━━━━━━━━━━━━━━━━━━━━━━━━━━━━━━━━━━━━━━━\u001b[0m \u001b[32m963.5/963.5 kB\u001b[0m \u001b[31m33.6 MB/s\u001b[0m eta \u001b[36m0:00:00\u001b[0m\n",
            "\u001b[?25hDownloading pyaml-24.12.1-py3-none-any.whl (25 kB)\n",
            "Downloading ffmpeg_python-0.2.0-py3-none-any.whl (25 kB)\n",
            "Installing collected packages: simplejson, pyaml, ffmpeg-python, stempeg, musdb, museval\n",
            "Successfully installed ffmpeg-python-0.2.0 musdb-0.4.2 museval-0.4.1 pyaml-24.12.1 simplejson-3.19.3 stempeg-0.2.3\n"
          ]
        }
      ]
    },
    {
      "cell_type": "code",
      "source": [
        "!git clone https://github.com/facebookresearch/demucs"
      ],
      "metadata": {
        "id": "FMxAE55FvNEo",
        "outputId": "d42b36e3-8e00-406f-85b2-a96326fbf870",
        "colab": {
          "base_uri": "https://localhost:8080/"
        }
      },
      "execution_count": 4,
      "outputs": [
        {
          "output_type": "stream",
          "name": "stdout",
          "text": [
            "Cloning into 'demucs'...\n",
            "remote: Enumerating objects: 5813, done.\u001b[K\n",
            "remote: Counting objects: 100% (848/848), done.\u001b[K\n",
            "remote: Compressing objects: 100% (167/167), done.\u001b[K\n",
            "remote: Total 5813 (delta 763), reused 681 (delta 681), pack-reused 4965 (from 1)\u001b[K\n",
            "Receiving objects: 100% (5813/5813), 76.67 MiB | 39.55 MiB/s, done.\n",
            "Resolving deltas: 100% (1164/1164), done.\n"
          ]
        }
      ]
    },
    {
      "cell_type": "code",
      "source": [
        "%cd demucs/"
      ],
      "metadata": {
        "id": "UHPRy12gwFr8",
        "outputId": "5df751ed-9212-4ece-bbeb-1002d55c2de1",
        "colab": {
          "base_uri": "https://localhost:8080/"
        }
      },
      "execution_count": 5,
      "outputs": [
        {
          "output_type": "stream",
          "name": "stdout",
          "text": [
            "/content/demucs\n"
          ]
        }
      ]
    },
    {
      "cell_type": "code",
      "source": [
        "!pip install -U demucs\n"
      ],
      "metadata": {
        "id": "1j5szfBD38fn",
        "outputId": "ea9f8e34-3635-4812-cd9b-28a596894e90",
        "colab": {
          "base_uri": "https://localhost:8080/"
        }
      },
      "execution_count": 19,
      "outputs": [
        {
          "output_type": "stream",
          "name": "stdout",
          "text": [
            "Requirement already satisfied: demucs in /usr/local/lib/python3.10/dist-packages (4.0.1)\n",
            "Requirement already satisfied: dora-search in /usr/local/lib/python3.10/dist-packages (from demucs) (0.1.12)\n",
            "Requirement already satisfied: einops in /usr/local/lib/python3.10/dist-packages (from demucs) (0.8.0)\n",
            "Requirement already satisfied: julius>=0.2.3 in /usr/local/lib/python3.10/dist-packages (from demucs) (0.2.7)\n",
            "Requirement already satisfied: lameenc>=1.2 in /usr/local/lib/python3.10/dist-packages (from demucs) (1.7.0)\n",
            "Requirement already satisfied: openunmix in /usr/local/lib/python3.10/dist-packages (from demucs) (1.3.0)\n",
            "Requirement already satisfied: pyyaml in /usr/local/lib/python3.10/dist-packages (from demucs) (6.0.2)\n",
            "Requirement already satisfied: torch>=1.8.1 in /usr/local/lib/python3.10/dist-packages (from demucs) (2.5.1+cu121)\n",
            "Requirement already satisfied: torchaudio>=0.8 in /usr/local/lib/python3.10/dist-packages (from demucs) (2.5.1+cu121)\n",
            "Requirement already satisfied: tqdm in /usr/local/lib/python3.10/dist-packages (from demucs) (4.67.1)\n",
            "Requirement already satisfied: filelock in /usr/local/lib/python3.10/dist-packages (from torch>=1.8.1->demucs) (3.16.1)\n",
            "Requirement already satisfied: typing-extensions>=4.8.0 in /usr/local/lib/python3.10/dist-packages (from torch>=1.8.1->demucs) (4.12.2)\n",
            "Requirement already satisfied: networkx in /usr/local/lib/python3.10/dist-packages (from torch>=1.8.1->demucs) (3.4.2)\n",
            "Requirement already satisfied: jinja2 in /usr/local/lib/python3.10/dist-packages (from torch>=1.8.1->demucs) (3.1.4)\n",
            "Requirement already satisfied: fsspec in /usr/local/lib/python3.10/dist-packages (from torch>=1.8.1->demucs) (2024.10.0)\n",
            "Requirement already satisfied: sympy==1.13.1 in /usr/local/lib/python3.10/dist-packages (from torch>=1.8.1->demucs) (1.13.1)\n",
            "Requirement already satisfied: mpmath<1.4,>=1.1.0 in /usr/local/lib/python3.10/dist-packages (from sympy==1.13.1->torch>=1.8.1->demucs) (1.3.0)\n",
            "Requirement already satisfied: omegaconf in /usr/local/lib/python3.10/dist-packages (from dora-search->demucs) (2.3.0)\n",
            "Requirement already satisfied: retrying in /usr/local/lib/python3.10/dist-packages (from dora-search->demucs) (1.3.4)\n",
            "Requirement already satisfied: submitit in /usr/local/lib/python3.10/dist-packages (from dora-search->demucs) (1.5.2)\n",
            "Requirement already satisfied: treetable in /usr/local/lib/python3.10/dist-packages (from dora-search->demucs) (0.2.5)\n",
            "Requirement already satisfied: numpy in /usr/local/lib/python3.10/dist-packages (from openunmix->demucs) (1.26.4)\n",
            "Requirement already satisfied: MarkupSafe>=2.0 in /usr/local/lib/python3.10/dist-packages (from jinja2->torch>=1.8.1->demucs) (3.0.2)\n",
            "Requirement already satisfied: antlr4-python3-runtime==4.9.* in /usr/local/lib/python3.10/dist-packages (from omegaconf->dora-search->demucs) (4.9.3)\n",
            "Requirement already satisfied: six>=1.7.0 in /usr/local/lib/python3.10/dist-packages (from retrying->dora-search->demucs) (1.17.0)\n",
            "Requirement already satisfied: cloudpickle>=1.2.1 in /usr/local/lib/python3.10/dist-packages (from submitit->dora-search->demucs) (3.1.0)\n"
          ]
        }
      ]
    },
    {
      "cell_type": "code",
      "source": [
        "!python -m demucs.separate --list-models\n"
      ],
      "metadata": {
        "id": "BLDdpckm5KvM",
        "outputId": "2fdd8f9e-b17f-4ef7-91e6-3fa80a8fb05d",
        "colab": {
          "base_uri": "https://localhost:8080/"
        }
      },
      "execution_count": 25,
      "outputs": [
        {
          "output_type": "stream",
          "name": "stdout",
          "text": [
            "Bag of models:\n",
            "    htdemucs\n",
            "    mdx_q\n",
            "    hdemucs_mmi\n",
            "    repro_mdx_a_hybrid_only\n",
            "    repro_mdx_a_time_only\n",
            "    htdemucs_6s\n",
            "    repro_mdx_a\n",
            "    mdx\n",
            "    mdx_extra\n",
            "    mdx_extra_q\n",
            "    htdemucs_ft\n",
            "Single models:\n",
            "    0d19c1c6\n",
            "    5d2d6c55\n",
            "    7d865c68\n",
            "    7ecf8ec1\n",
            "    a1d90b5c\n",
            "    c511e2ab\n",
            "    cfa93e08\n",
            "    e51eebcc\n",
            "    6b9c2ca1\n",
            "    b72baf4e\n",
            "    42e558d4\n",
            "    305bc58f\n",
            "    14fc6a69\n",
            "    464b36d7\n",
            "    7fd6ef75\n",
            "    83fc094f\n",
            "    1ef250f1\n",
            "    902315c2\n",
            "    9a6b4851\n",
            "    fa0cb7f9\n",
            "    955717e8\n",
            "    f7e0c4bc\n",
            "    d12395a8\n",
            "    92cfc3b6\n",
            "    04573f0d\n",
            "    75fc33f5\n",
            "    5c90dfd2\n"
          ]
        }
      ]
    },
    {
      "cell_type": "code",
      "source": [
        "# !python -m demucs.separate --dl -n tasnet_extra /content/Alone_-_Color_Out.mp3\n",
        "!python -m demucs.separate -n htdemucs /content/Alone_-_Color_Out.mp3\n",
        "\n",
        "\n",
        "\n",
        "\n",
        "\n"
      ],
      "metadata": {
        "id": "ZuH8rPbNwakR",
        "outputId": "6ea68e99-d988-4e33-baf9-9cece1841a25",
        "colab": {
          "base_uri": "https://localhost:8080/"
        }
      },
      "execution_count": 27,
      "outputs": [
        {
          "output_type": "stream",
          "name": "stdout",
          "text": [
            "Downloading: \"https://dl.fbaipublicfiles.com/demucs/hybrid_transformer/955717e8-8726e21a.th\" to /root/.cache/torch/hub/checkpoints/955717e8-8726e21a.th\n",
            "100% 80.2M/80.2M [00:00<00:00, 186MB/s]\n",
            "Selected model is a bag of 1 models. You will see that many progress bars per track.\n",
            "Separated tracks will be stored in /content/demucs/separated/htdemucs\n",
            "Separating track /content/Alone_-_Color_Out.mp3\n",
            "100%|██████████████████████████████████████████████| 251.54999999999998/251.54999999999998 [00:17<00:00, 14.26seconds/s]\n"
          ]
        }
      ]
    },
    {
      "cell_type": "markdown",
      "source": [
        "# New section"
      ],
      "metadata": {
        "id": "foglBiAWuh4y"
      }
    },
    {
      "cell_type": "code",
      "metadata": {
        "id": "5iXfkyi0_IUU",
        "colab": {
          "base_uri": "https://localhost:8080/"
        },
        "outputId": "99268ac0-e989-4b60-c64d-fb40126306e6"
      },
      "source": [
        "!python -m demucs.separate /path/to/wav/file"
      ],
      "execution_count": null,
      "outputs": [
        {
          "output_type": "stream",
          "text": [
            "Downloading: \"https://dl.fbaipublicfiles.com/demucs/v3.0/demucs_quantized-07afea75.th\" to /root/.cache/torch/hub/checkpoints/demucs_quantized-07afea75.th\n",
            "100% 148M/148M [00:02<00:00, 68.4MB/s]\n",
            "Separated tracks will be stored in /content/demucs/separated/demucs_quantized\n",
            "Separating track /content/rushing-back-clip.wav\n",
            "100%|██████████████████████████████████████████████████████████████████████████| 30.0/30.0 [00:21<00:00,  1.42seconds/s]\n"
          ],
          "name": "stdout"
        }
      ]
    }
  ]
}